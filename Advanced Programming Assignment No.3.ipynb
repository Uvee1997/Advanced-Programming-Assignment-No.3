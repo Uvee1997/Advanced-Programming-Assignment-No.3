{
 "cells": [
  {
   "cell_type": "markdown",
   "id": "af0a84cc",
   "metadata": {},
   "source": [
    "Q1)"
   ]
  },
  {
   "cell_type": "code",
   "execution_count": 1,
   "id": "de0f2aef",
   "metadata": {},
   "outputs": [
    {
     "name": "stdout",
     "output_type": "stream",
     "text": [
      "Enter first number25\n",
      "Enter second number5\n",
      "The sum of 25 and 5 is 30.0\n",
      "The subtraction of 25 and 5 is 20.0\n",
      "The multiplication of 25 and 5 is 125.0\n",
      "The division of 25 and 5 is 5.0\n"
     ]
    }
   ],
   "source": [
    "num1 = input(\"Enter first number\")\n",
    "num2 = input(\"Enter second number\")\n",
    "\n",
    "sum = float(num1)+float(num2)\n",
    "min = float(num1)-float(num2)\n",
    "mul = float(num1)*float(num2)\n",
    "div = float(num1)/float(num2)\n",
    "\n",
    "print(\"The sum of {0} and {1} is {2}\".format(num1,num2,sum))\n",
    "print(\"The subtraction of {0} and {1} is {2}\".format(num1,num2,min))\n",
    "print(\"The multiplication of {0} and {1} is {2}\".format(num1,num2,mul))\n",
    "print(\"The division of {0} and {1} is {2}\".format(num1,num2,div))"
   ]
  },
  {
   "cell_type": "markdown",
   "id": "d2449168",
   "metadata": {},
   "source": [
    "Q2)"
   ]
  },
  {
   "cell_type": "code",
   "execution_count": 3,
   "id": "197a5358",
   "metadata": {},
   "outputs": [
    {
     "name": "stdout",
     "output_type": "stream",
     "text": [
      "Triangle formation is not possible\n",
      "Triangle formation is not possible\n",
      "Triangle formation is not possible\n"
     ]
    }
   ],
   "source": [
    "def maxPerimeter(arr):\n",
    "    maxi = 0\n",
    "    n = len(arr)\n",
    "     \n",
    "    \n",
    "    for i in range(n - 2):\n",
    "        for j in range(i + 1, n - 1):\n",
    "            for k in range(j + 1, n):\n",
    "                 \n",
    "                \n",
    "                a = arr[i]\n",
    "                b = arr[j]\n",
    "                c = arr[k]\n",
    "                if(a < b + c and b < a + c\n",
    "                             and c < a + b):\n",
    "                    maxi = max(maxi, a + b + c)\n",
    "    if(maxi == 0):\n",
    "        return \"Triangle formation is not possible\"\n",
    "    else:\n",
    "        return \"Maximum Perimeter is: \"+ str(maxi)\n",
    "\n",
    "def main():\n",
    "    arr1 = [ [15, 7], [5, 22], [11, 1] ]\n",
    "    a = maxPerimeter(arr1)\n",
    "    print(a)\n",
    "    \n",
    "    arr2 = [ [0, 0], [0, 1], [1, 0] ]\n",
    "    a = maxPerimeter(arr2)\n",
    "    print(a)\n",
    "    \n",
    "    arr3 = [ [-10, -10], [10, 10 ], [-10, 10] ]\n",
    "    a = maxPerimeter(arr3)\n",
    "    print(a)\n",
    "    \n",
    "if __name__ == '__main__':\n",
    "    main()\n"
   ]
  },
  {
   "cell_type": "markdown",
   "id": "9ee3aa0f",
   "metadata": {},
   "source": [
    "Q3)"
   ]
  },
  {
   "cell_type": "code",
   "execution_count": null,
   "id": "8d6644fb",
   "metadata": {},
   "outputs": [],
   "source": [
    "class Solution:\n",
    "         def get_skyline(self, buildings):\n",
    "             \"\"\"\n",
    "             :type buildings: List[List[int]]\n",
    "             :rtype: List[List[int]]\n",
    "             \"\"\"\n",
    "            if not buildings:\n",
    "                 return []\n",
    "            if len(buildings) == 1:\n",
    "                 return [[buildings[0][0], buildings[0][2]], [buildings[0][1], 0]]\n",
    "\n",
    "            mid = len(buildings) // 2\n",
    "            left = self.get_skyline(buildings[:mid])\n",
    "            right = self.get_skyline(buildings[mid:])\n",
    "             return self.merge(left, right)\n",
    "\n",
    "        def merge(self, left, right):\n",
    "            h1, h2 = 0, 0\n",
    "            i, j = 0, 0\n",
    "            result = []\n",
    "\n",
    "             while i < len(left) and j < len(right):\n",
    "                if left[i][0] < right[j][0]:\n",
    "                    h1 = left[i][1]\n",
    "                    corner = left[i][0]\n",
    "                     i += 1\n",
    "                elif right[j][0] < left[i][0]:\n",
    "                    h2 = right[j][1]\n",
    "                    corner = right[j][0]\n",
    "                     j += 1\n",
    "                else:\n",
    "                    h1 = left[i][1]\n",
    "                    h2 = right[j][1]\n",
    "                    corner = right[j][0]\n",
    "                    i += 1\n",
    "                    j += 1\n",
    "                if self.is_valid(result, max(h1, h2)):\n",
    "                     result.append([corner, max(h1, h2)])\n",
    "            result.extend(right[j:])\n",
    "            result.extend(left[i:])\n",
    "            return result\n",
    "\n",
    "         def is_valid(self, result, new_height):\n",
    "            return not result or result[-1][1] != new_height\n"
   ]
  }
 ],
 "metadata": {
  "kernelspec": {
   "display_name": "Python 3 (ipykernel)",
   "language": "python",
   "name": "python3"
  },
  "language_info": {
   "codemirror_mode": {
    "name": "ipython",
    "version": 3
   },
   "file_extension": ".py",
   "mimetype": "text/x-python",
   "name": "python",
   "nbconvert_exporter": "python",
   "pygments_lexer": "ipython3",
   "version": "3.9.7"
  }
 },
 "nbformat": 4,
 "nbformat_minor": 5
}
